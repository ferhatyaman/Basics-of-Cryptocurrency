{
 "cells": [
  {
   "cell_type": "code",
   "execution_count": 4,
   "metadata": {},
   "outputs": [],
   "source": [
    "import uuid, DSA,random\n",
    "import math\n",
    "import random, string\n",
    "import warnings\n",
    "import sys, os\n",
    "\n",
    "def GenTxBlock(p, q, g, count):\n",
    "    transaction = \"\"\n",
    "\n",
    "    for i in range(count): \n",
    "        transaction += \"*** Bitcoin transaction ***\\n\"\n",
    "\n",
    "        line = \"Serial number: \"\n",
    "        x = uuid.uuid4().int\n",
    "        line += str(x) + \"\\n\"\n",
    "        transaction += line\n",
    "        \n",
    "        line = \"p: \" + str(p) + \"\\n\"\n",
    "        transaction += line\n",
    "        \n",
    "        line = \"q: \" + str(q) + \"\\n\"\n",
    "        transaction += line\n",
    "        \n",
    "        line = \"g: \" + str(g) + \"\\n\"\n",
    "        transaction += line\n",
    "\n",
    "        alpha, beta = DSA.KeyGen(p,q,g)\n",
    "        \n",
    "        line = \"Payer Public Key (beta): \" + str(beta) + \"\\n\"\n",
    "        transaction += line\n",
    "\n",
    "        alpha2, beta2 = DSA.KeyGen(p,q,g)\n",
    "        line = \"Payee Public Key (beta): \" + str(beta2) + \"\\n\"\n",
    "        transaction += line\n",
    "        \n",
    "        \n",
    "        line = \"Amount: \"\n",
    "        y = random.randint(1,1000)\n",
    "        line += str(y) + \" Satoshi\\n\"\n",
    "        transaction += line\n",
    "        \n",
    "        m = transaction\n",
    "        \n",
    "        (r, s) = DSA.SignGen(m, p, q, g, alpha, beta)\n",
    "        \n",
    "        line = \"Signature (r): \" + str(r) + \"\\n\"\n",
    "        transaction += line\n",
    "        \n",
    "        line = \"Signature (s): \" + str(s) + \"\\n\"\n",
    "        transaction += line\n",
    "\n",
    "    return transaction"
   ]
  },
  {
   "cell_type": "code",
   "execution_count": 6,
   "metadata": {},
   "outputs": [
    {
     "name": "stdout",
     "output_type": "stream",
     "text": [
      "DSA parameters are read from file DSA_params.txt\n",
      "Transaction block 0 is written into TransactionBlock0.txt\n",
      "Transaction block 1 is written into TransactionBlock1.txt\n",
      "Transaction block 2 is written into TransactionBlock2.txt\n"
     ]
    }
   ],
   "source": [
    "TxBlocksGenOn = 1    # set to 1 if you want to generate a block of bitcoin transaction\n",
    "PoWGenOn = 0         # set to 1 if you want to provide PoW for given transaction blocks\n",
    "BlockChainTestOn = 0 # set ot 1 if you want to validate the block chain\n",
    "ValidateTxOn = 0     # set to 1 if you want to validate a transaction \n",
    "\n",
    "blockCount = 3 # number of link in the block chain (you can change)\n",
    "TxCount = 8    # number of transactions in a block (you can change, but set it to a power of two)\n",
    "PoWLen = 6     # the number of 0s in PoW (you can change)\n",
    "TxLen = 10     # no of lines in a transaction (do not change)\n",
    "LinkLen = 4    # no of lines in a link of the chain (do not change)\n",
    "\n",
    "# Generate a random transaction along with its signature\n",
    "if TxBlocksGenOn:\n",
    "    if os.path.exists('DSA_params.txt') == True:\n",
    "        inf = open('DSA_params.txt', 'r')\n",
    "        q = int(inf.readline())\n",
    "        p = int(inf.readline())\n",
    "        g = int(inf.readline())\n",
    "        inf.close()\n",
    "        print (\"DSA parameters are read from file DSA_params.txt\")\n",
    "    else:\n",
    "        print ('DSA_params.txt does not exist')\n",
    "        sys.exit()\n",
    "    \n",
    "    FileName = \"TransactionBlock\"\n",
    "    for i in range(0,blockCount):\n",
    "        transaction= GenTxBlock(p, q, g, TxCount)\n",
    "        TxBlockFileName = FileName+str(i)+\".txt\"\n",
    "        TxBlockFile = open(TxBlockFileName, \"w\")\n",
    "        TxBlockFile.write(transaction)\n",
    "        TxBlockFile.close()\n",
    "        print (\"Transaction block %d is written into TransactionBlock%d.txt\" %(i,i))"
   ]
  },
  {
   "cell_type": "code",
   "execution_count": null,
   "metadata": {},
   "outputs": [],
   "source": []
  }
 ],
 "metadata": {
  "kernelspec": {
   "display_name": "Python 3",
   "language": "python",
   "name": "python3"
  },
  "language_info": {
   "codemirror_mode": {
    "name": "ipython",
    "version": 3
   },
   "file_extension": ".py",
   "mimetype": "text/x-python",
   "name": "python",
   "nbconvert_exporter": "python",
   "pygments_lexer": "ipython3",
   "version": "3.6.2"
  }
 },
 "nbformat": 4,
 "nbformat_minor": 2
}
