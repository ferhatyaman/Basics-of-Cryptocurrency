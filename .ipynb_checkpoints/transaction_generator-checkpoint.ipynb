{
 "cells": [
  {
   "cell_type": "code",
   "execution_count": 1,
   "metadata": {},
   "outputs": [
    {
     "name": "stdout",
     "output_type": "stream",
     "text": [
      "True\n"
     ]
    }
   ],
   "source": [
    "def check_PoW(h):\n",
    "    if h[0:6] == \"000000\":\n",
    "        return True\n",
    "    else:\n",
    "        return False\n",
    "h = '000000cf6e9a186ae41a4344910e6063df15b50e7a9453ae21053b3466b26f61' \n"
   ]
  },
  {
   "cell_type": "code",
   "execution_count": 5,
   "metadata": {},
   "outputs": [
    {
     "data": {
      "text/plain": [
       "'1J06IX9D8S'"
      ]
     },
     "execution_count": 5,
     "metadata": {},
     "output_type": "execute_result"
    }
   ],
   "source": [
    "import string\n",
    "import random\n",
    "''.join(random.SystemRandom().choice(string.ascii_uppercase + string.digits) for _ in range(10))"
   ]
  },
  {
   "cell_type": "code",
   "execution_count": 4,
   "metadata": {},
   "outputs": [
    {
     "data": {
      "text/plain": [
       "'LCLCZT2SOX'"
      ]
     },
     "execution_count": 4,
     "metadata": {},
     "output_type": "execute_result"
    }
   ],
   "source": [
    "import string\n",
    "import random\n",
    "def id_generator(size=10, chars=string.ascii_uppercase + string.digits):\n",
    "    return ''.join(random.choice(chars) for _ in range(size))\n",
    "id_generator()"
   ]
  },
  {
   "cell_type": "code",
   "execution_count": null,
   "metadata": {},
   "outputs": [],
   "source": [
    "import hashlib\n",
    "transaction = \"\".join(lines[i*TxLen:i*TxLen+TxLen-1])\n",
    "transaction = transaction.encode()\n",
    "h = hashlib.sha3_256(transaction).hexdigest()\n"
   ]
  },
  {
   "cell_type": "code",
   "execution_count": 8,
   "metadata": {},
   "outputs": [
    {
     "name": "stdout",
     "output_type": "stream",
     "text": [
      "['* Bitcoin transaction *\\n', 'Serial number: 167070272930656873996496774181231755563\\n', 'Payer: Ferhat Yaman\\n', 'Payee: QTKBG9IKUV\\n', 'Amount: 24 Satoshi\\n', 'Previous hash in the chain: First transaction\\n', 'Nonce: 288165376828076429454656021872343103361\\n', 'Proof of Work: 000000b6c0aec54e22c04403885561a25ef0802f53648d6032b99480b8241378']\n",
      "['* Bitcoin transaction *\\n', 'Serial number: 189002267988789350557797811967104960518\\n', 'Payer: Gulsum Can\\n', 'Payee: 0ADB2NEI90\\n', 'Amount: 66 Satoshi\\n', 'Previous hash in the chain: 000000b6c0aec54e22c04403885561a25ef0802f53648d6032b99480b8241378\\n', 'Nonce: 4404833837065702828274809073064926260\\n', 'Proof of Work: 00000000fcee329aa55e10e4d5a5e21781b60fe7113f461a27d001e18a0110f3']\n",
      "['* Bitcoin transaction *\\n', 'Serial number: 292672587634374176998996898886887893830\\n', 'Payer: Ferhat Yaman\\n', 'Payee: TJNSV5R1EQ\\n', 'Amount: 29 Bitcoin\\n', 'Previous hash in the chain: 00000000fcee329aa55e10e4d5a5e21781b60fe7113f461a27d001e18a0110f3\\n', 'Nonce: 252199845357726740043461215719427618585\\n', 'Proof of Work: 0000007f366dd27d3d76fcb7451a9b1498c6c7cf153c279a7cdaa6bde67de42b']\n",
      "['* Bitcoin transaction *\\n', 'Serial number: 222366533673445679296909454305613121249\\n', 'Payer: Gulsum Can\\n', 'Payee: G3BLNTB9Q6\\n', 'Amount: 10 Satoshi\\n', 'Previous hash in the chain: 0000007f366dd27d3d76fcb7451a9b1498c6c7cf153c279a7cdaa6bde67de42b\\n', 'Nonce: 226009745570503827942055426099589216649\\n', 'Proof of Work: 00000030ba3a2c70d6ea7bd02db4dcda05816af0837572b69b024583388d52bc']\n",
      "['* Bitcoin transaction *\\n', 'Serial number: 189476329455084739879059004045247859727\\n', 'Payer: Ferhat Yaman\\n', 'Payee: G0OVX7WN2X\\n', 'Amount: 49 Bitcoin\\n', 'Previous hash in the chain: 00000030ba3a2c70d6ea7bd02db4dcda05816af0837572b69b024583388d52bc\\n', 'Nonce: 279014955380313377606433748710316312365\\n', 'Proof of Work: 00000082903b48bf0602f5c64d1d6bd4ba8def25bd8a69c3a145a1b334790b5a']\n",
      "['* Bitcoin transaction *\\n', 'Serial number: 328711717608313072539829405315348857242\\n', 'Payer: Gulsum Can\\n', 'Payee: T9C7D6YN1W\\n', 'Amount: 91 Satoshi\\n', 'Previous hash in the chain: 00000082903b48bf0602f5c64d1d6bd4ba8def25bd8a69c3a145a1b334790b5a\\n', 'Nonce: 162661297081300611670883639721111184833\\n', 'Proof of Work: 0000007a10193cce4edeae6bd8f07b2d8154441e24fd5110d76fe82b3d2b0986']\n",
      "['* Bitcoin transaction *\\n', 'Serial number: 334987126762693154458799435646571712251\\n', 'Payer: Ferhat Yaman\\n', 'Payee: VU1PF8GXMM\\n', 'Amount: 40 Satoshi\\n', 'Previous hash in the chain: 0000007a10193cce4edeae6bd8f07b2d8154441e24fd5110d76fe82b3d2b0986\\n', 'Nonce: 25125437610001954809372749984716211297\\n', 'Proof of Work: 000000ee08797446c69a84f0360b4abf581aa4b612eb191ae61607731cb5d808']\n",
      "['* Bitcoin transaction *\\n', 'Serial number: 289098406192902716673560507407307186069\\n', 'Payer: Gulsum Can\\n', 'Payee: L8KTYIC55Z\\n', 'Amount: 10 Satoshi\\n', 'Previous hash in the chain: 000000ee08797446c69a84f0360b4abf581aa4b612eb191ae61607731cb5d808\\n', 'Nonce: 155386699126507285173593485216968535411\\n', 'Proof of Work: 000000093bc682512dfd506578d2141e0c1b76bc0c379a509860a8f3bc2a1438']\n",
      "['* Bitcoin transaction *\\n', 'Serial number: 104829014598353446495255839802839488581\\n', 'Payer: Ferhat Yaman\\n', 'Payee: DYG2BUING7\\n', 'Amount: 36 Satoshi\\n', 'Previous hash in the chain: 000000093bc682512dfd506578d2141e0c1b76bc0c379a509860a8f3bc2a1438\\n', 'Nonce: 38983821406412696490874528740886162191\\n', 'Proof of Work: 0000008fb2600ee667b1b9df9a4731e27ffc0bf933f8ff8d1205e5b08131878f']\n",
      "['* Bitcoin transaction *\\n', 'Serial number: 97339772873250880754405806003543817829\\n', 'Payer: Gulsum Can\\n', 'Payee: 5WGWXOJSAR\\n', 'Amount: 5 Bitcoin\\n', 'Previous hash in the chain: 0000008fb2600ee667b1b9df9a4731e27ffc0bf933f8ff8d1205e5b08131878f\\n', 'Nonce: 52809002854421863446739777427977645817\\n', 'Proof of Work: 0000005b9e787bf2451f76f9f949e933717ab3826a7f8d73882b1384cc11a795']\n",
      "['* Bitcoin transaction *\\n', 'Serial number: 167070272930656873996496774181231755563\\n', 'Payer: Ferhat Yaman\\n', 'Payee: QTKBG9IKUV\\n', 'Amount: 24 Satoshi\\n', 'Previous hash in the chain: First transaction\\n', 'Nonce: 288165376828076429454656021872343103361\\n', 'Proof of Work: 000000b6c0aec54e22c04403885561a25ef0802f53648d6032b99480b8241378', '* Bitcoin transaction *\\n', 'Serial number: 189002267988789350557797811967104960518\\n', 'Payer: Gulsum Can\\n', 'Payee: 0ADB2NEI90\\n', 'Amount: 66 Satoshi\\n', 'Previous hash in the chain: 000000b6c0aec54e22c04403885561a25ef0802f53648d6032b99480b8241378\\n', 'Nonce: 4404833837065702828274809073064926260\\n', 'Proof of Work: 00000000fcee329aa55e10e4d5a5e21781b60fe7113f461a27d001e18a0110f3', '* Bitcoin transaction *\\n', 'Serial number: 292672587634374176998996898886887893830\\n', 'Payer: Ferhat Yaman\\n', 'Payee: TJNSV5R1EQ\\n', 'Amount: 29 Bitcoin\\n', 'Previous hash in the chain: 00000000fcee329aa55e10e4d5a5e21781b60fe7113f461a27d001e18a0110f3\\n', 'Nonce: 252199845357726740043461215719427618585\\n', 'Proof of Work: 0000007f366dd27d3d76fcb7451a9b1498c6c7cf153c279a7cdaa6bde67de42b', '* Bitcoin transaction *\\n', 'Serial number: 222366533673445679296909454305613121249\\n', 'Payer: Gulsum Can\\n', 'Payee: G3BLNTB9Q6\\n', 'Amount: 10 Satoshi\\n', 'Previous hash in the chain: 0000007f366dd27d3d76fcb7451a9b1498c6c7cf153c279a7cdaa6bde67de42b\\n', 'Nonce: 226009745570503827942055426099589216649\\n', 'Proof of Work: 00000030ba3a2c70d6ea7bd02db4dcda05816af0837572b69b024583388d52bc', '* Bitcoin transaction *\\n', 'Serial number: 189476329455084739879059004045247859727\\n', 'Payer: Ferhat Yaman\\n', 'Payee: G0OVX7WN2X\\n', 'Amount: 49 Bitcoin\\n', 'Previous hash in the chain: 00000030ba3a2c70d6ea7bd02db4dcda05816af0837572b69b024583388d52bc\\n', 'Nonce: 279014955380313377606433748710316312365\\n', 'Proof of Work: 00000082903b48bf0602f5c64d1d6bd4ba8def25bd8a69c3a145a1b334790b5a', '* Bitcoin transaction *\\n', 'Serial number: 328711717608313072539829405315348857242\\n', 'Payer: Gulsum Can\\n', 'Payee: T9C7D6YN1W\\n', 'Amount: 91 Satoshi\\n', 'Previous hash in the chain: 00000082903b48bf0602f5c64d1d6bd4ba8def25bd8a69c3a145a1b334790b5a\\n', 'Nonce: 162661297081300611670883639721111184833\\n', 'Proof of Work: 0000007a10193cce4edeae6bd8f07b2d8154441e24fd5110d76fe82b3d2b0986', '* Bitcoin transaction *\\n', 'Serial number: 334987126762693154458799435646571712251\\n', 'Payer: Ferhat Yaman\\n', 'Payee: VU1PF8GXMM\\n', 'Amount: 40 Satoshi\\n', 'Previous hash in the chain: 0000007a10193cce4edeae6bd8f07b2d8154441e24fd5110d76fe82b3d2b0986\\n', 'Nonce: 25125437610001954809372749984716211297\\n', 'Proof of Work: 000000ee08797446c69a84f0360b4abf581aa4b612eb191ae61607731cb5d808', '* Bitcoin transaction *\\n', 'Serial number: 289098406192902716673560507407307186069\\n', 'Payer: Gulsum Can\\n', 'Payee: L8KTYIC55Z\\n', 'Amount: 10 Satoshi\\n', 'Previous hash in the chain: 000000ee08797446c69a84f0360b4abf581aa4b612eb191ae61607731cb5d808\\n', 'Nonce: 155386699126507285173593485216968535411\\n', 'Proof of Work: 000000093bc682512dfd506578d2141e0c1b76bc0c379a509860a8f3bc2a1438', '* Bitcoin transaction *\\n', 'Serial number: 104829014598353446495255839802839488581\\n', 'Payer: Ferhat Yaman\\n', 'Payee: DYG2BUING7\\n', 'Amount: 36 Satoshi\\n', 'Previous hash in the chain: 000000093bc682512dfd506578d2141e0c1b76bc0c379a509860a8f3bc2a1438\\n', 'Nonce: 38983821406412696490874528740886162191\\n', 'Proof of Work: 0000008fb2600ee667b1b9df9a4731e27ffc0bf933f8ff8d1205e5b08131878f', '* Bitcoin transaction *\\n', 'Serial number: 97339772873250880754405806003543817829\\n', 'Payer: Gulsum Can\\n', 'Payee: 5WGWXOJSAR\\n', 'Amount: 5 Bitcoin\\n', 'Previous hash in the chain: 0000008fb2600ee667b1b9df9a4731e27ffc0bf933f8ff8d1205e5b08131878f\\n', 'Nonce: 52809002854421863446739777427977645817\\n', 'Proof of Work: 0000005b9e787bf2451f76f9f949e933717ab3826a7f8d73882b1384cc11a795']\n"
     ]
    }
   ],
   "source": [
    "# * Bitcoin transaction *\n",
    "# Serial number: 113923568100810392107501092256693023404\n",
    "# Payer: Erkay Savas\n",
    "# Payee: 9OHYC04SSW\n",
    "# Amount: 367 Satoshi\n",
    "# Previous hash in the chain: First transaction\n",
    "# Nonce: 125008846040115773675268776344286667739\n",
    "# Proof of Work: 000000522fd99aa82239ddd891bd5c366287bb44ef8a87013a936c0b8dcc4636\n",
    "from random import *\n",
    "import uuid\n",
    "import hashlib\n",
    "import string\n",
    "import random\n",
    "\n",
    "def id_generator(size=10, chars=string.ascii_uppercase + string.digits):\n",
    "    return ''.join(random.choice(chars) for _ in range(size))\n",
    "\n",
    "\n",
    "def check_PoW(h):\n",
    "    if h[0:6] == \"000000\":\n",
    "        return True\n",
    "    else:\n",
    "        return False\n",
    "\n",
    "def hash_me(lines):\n",
    "\tTxLen = 8\n",
    "\ttransaction = \"\".join(lines[i*TxLen:i*TxLen+TxLen-1])\n",
    "\ttransaction = transaction.encode()\n",
    "\th = hashlib.sha256(transaction).hexdigest()\n",
    "\treturn h\n",
    "\n",
    "\n",
    "TxLen = 8\t\t\n",
    "prev_hash = \"\"\n",
    "lines = list()\n",
    "for i in range(0,10):\n",
    "\tlines.append(\"* Bitcoin transaction *\\n\")\n",
    "\t\n",
    "\tline = \"Serial number: \"\n",
    "\tx = uuid.uuid4().int\n",
    "\tline += str(x) + \"\\n\"\n",
    "\tlines.append(line)\n",
    "\t\n",
    "\tif i % 2 == 0:\n",
    "\t\tlines.append(\"Payer: Ferhat Yaman\\n\")\n",
    "\telse:\n",
    "\t\tlines.append(\"Payer: Gulsum Can\\n\")\n",
    "\n",
    "\tline = \"Payee: \" + id_generator() + \"\\n\"\n",
    "\tlines.append(line)\n",
    "\n",
    "\tline = \"Amount: \"\n",
    "\tx = randint(1,2)\n",
    "\ty = randint(1,100)\n",
    "\tif x == 1:\n",
    "\t\tline += str(y) + \" Satoshi\\n\"\n",
    "\telse:\n",
    "\t\tline += str(y) + \" Bitcoin\\n\"\n",
    "\tlines.append(line)\n",
    "\n",
    "\tif i == 0:\n",
    "\t\tlines.append(\"Previous hash in the chain: First transaction\\n\")\n",
    "\telse:\n",
    "\t\tline = \"Previous hash in the chain: \" + str(prev_hash) + \"\\n\"\n",
    "\t\tlines.append(line)\n",
    "\t\t\n",
    "\n",
    "\tline = \"Nonce: \"\n",
    "\tnonce = uuid.uuid4().int\n",
    "\tline += str(nonce) + \"\\n\"\n",
    "\tlines.append(line)\n",
    "\t\n",
    "\th = hash_me(lines)\n",
    "\twhile not check_PoW(h):\n",
    "\t\tline = \"Nonce: \"\n",
    "\t\tnonce = uuid.uuid4().int\n",
    "\t\tline += str(nonce) + \"\\n\"\n",
    "\t\tlines[-1] = line\n",
    "\t\th = hash_me(lines)\n",
    "\t\tprev_hash = h\n",
    "\t\n",
    "\tline = \"Proof of Work: \" + str(h) + \"\\n\"\n",
    "\tlines.append(line)\n",
    "\tprint(lines[i*8:])\n",
    "\t\t\n",
    "\t#assign prev_hash\n",
    "\n",
    "print (lines)"
   ]
  },
  {
   "cell_type": "code",
   "execution_count": 10,
   "metadata": {},
   "outputs": [
    {
     "name": "stdout",
     "output_type": "stream",
     "text": [
      "['* Bitcoin transaction *\\n', 'Serial number: 322814013113005857864818908068002247515\\n', 'Payer: Ferhat Yaman\\n', 'Payee: LKI2RT99FN\\n', 'Amount: 63 Satoshi\\n', 'Previous hash in the chain: First transaction\\n', 'Nonce: 120092634322185639373024063021027655263\\n', 'Proof of Work: 000000fad926747ae5b99bded9e613e01dba65f73bdcf9761a5a855045d22d88']\n",
      "['* Bitcoin transaction *\\n', 'Serial number: 40479724373769379334046316013167726873\\n', 'Payer: Gulsum Can\\n', 'Payee: 0F3L68RU15\\n', 'Amount: 82 Satoshi\\n', 'Previous hash in the chain: 000000fad926747ae5b99bded9e613e01dba65f73bdcf9761a5a855045d22d88\\n', 'Nonce: 82720611246607019459987163900090721212\\n', 'Proof of Work: 000000e2d17055d5cfccc47b3750096578b57946d0b06c011ca9bfb8e1391263']\n",
      "['* Bitcoin transaction *\\n', 'Serial number: 39167977459663103538229088002443486745\\n', 'Payer: Ferhat Yaman\\n', 'Payee: VEZPQF5RDR\\n', 'Amount: 54 Bitcoin\\n', 'Previous hash in the chain: 000000e2d17055d5cfccc47b3750096578b57946d0b06c011ca9bfb8e1391263\\n', 'Nonce: 295577153462951255068041905077562562032\\n', 'Proof of Work: 0000008673c87c4f204187ada6a70f8224ffd5c8ffb3d9b99afa4ad6f8541c3f']\n",
      "['* Bitcoin transaction *\\n', 'Serial number: 199785603216289223447574064787296697764\\n', 'Payer: Gulsum Can\\n', 'Payee: HKJVSXE01V\\n', 'Amount: 17 Bitcoin\\n', 'Previous hash in the chain: 0000008673c87c4f204187ada6a70f8224ffd5c8ffb3d9b99afa4ad6f8541c3f\\n', 'Nonce: 114736438713337343390520916790559890888\\n', 'Proof of Work: 000000c616e15eb0c0c6dca83cbc182ae6a7703a051614b3c84510883096c3f0']\n",
      "['* Bitcoin transaction *\\n', 'Serial number: 131842622836334911872773521662233283619\\n', 'Payer: Ferhat Yaman\\n', 'Payee: KSHGVUPRPN\\n', 'Amount: 47 Bitcoin\\n', 'Previous hash in the chain: 000000c616e15eb0c0c6dca83cbc182ae6a7703a051614b3c84510883096c3f0\\n', 'Nonce: 117860772239635122473744633388199227445\\n', 'Proof of Work: 00000065fd10a9dfe8b5bba73b9219f9ab9516108bb4bbabb729cca12cf7bdae']\n",
      "['* Bitcoin transaction *\\n', 'Serial number: 66127874113029544032025688763314768448\\n', 'Payer: Gulsum Can\\n', 'Payee: TKTDJ2QAIF\\n', 'Amount: 70 Bitcoin\\n', 'Previous hash in the chain: 00000065fd10a9dfe8b5bba73b9219f9ab9516108bb4bbabb729cca12cf7bdae\\n', 'Nonce: 148308285486615980759222769873487359655\\n', 'Proof of Work: 00000024e8459b4e208e60046f0a4a714045d2b6e54200f43bc37a3c5f3d5b2d']\n",
      "['* Bitcoin transaction *\\n', 'Serial number: 246485990887498835702367233854104967441\\n', 'Payer: Ferhat Yaman\\n', 'Payee: MGMBRZW8HR\\n', 'Amount: 52 Bitcoin\\n', 'Previous hash in the chain: 00000024e8459b4e208e60046f0a4a714045d2b6e54200f43bc37a3c5f3d5b2d\\n', 'Nonce: 298030272571357490557553867538625629781\\n', 'Proof of Work: 0000008a27b63c037e74f08a4c5e4988d496f4189540150b138d0ffdd2ceb920']\n",
      "['* Bitcoin transaction *\\n', 'Serial number: 245041911099033707058304044807984560090\\n', 'Payer: Gulsum Can\\n', 'Payee: PB10RUQO80\\n', 'Amount: 58 Bitcoin\\n', 'Previous hash in the chain: 0000008a27b63c037e74f08a4c5e4988d496f4189540150b138d0ffdd2ceb920\\n', 'Nonce: 298885848210171912187191928753228790454\\n', 'Proof of Work: 000000a9264e901f33c4b6e703c2b3b9e98660f7eed878ea345b68f6b58470fc']\n",
      "['* Bitcoin transaction *\\n', 'Serial number: 204714823124787322669627956518958850823\\n', 'Payer: Ferhat Yaman\\n', 'Payee: 4XK0E2UO33\\n', 'Amount: 65 Bitcoin\\n', 'Previous hash in the chain: 000000a9264e901f33c4b6e703c2b3b9e98660f7eed878ea345b68f6b58470fc\\n', 'Nonce: 17037280368415087207447772919365518166\\n', 'Proof of Work: 0000000bd70b1d48e3ffb90ebe96df5f95a314a2ae986dabe08b9f7f16f1daaa']\n",
      "['* Bitcoin transaction *\\n', 'Serial number: 126905109950716832334980610940284890374\\n', 'Payer: Gulsum Can\\n', 'Payee: A7M5K70TGO\\n', 'Amount: 93 Satoshi\\n', 'Previous hash in the chain: 0000000bd70b1d48e3ffb90ebe96df5f95a314a2ae986dabe08b9f7f16f1daaa\\n', 'Nonce: 265879671712205809898332676471984093451\\n', 'Proof of Work: 000000b2d834610716d4e604827ad511c261b6483cb1e0a49522ee94b3b09de1']\n",
      "['* Bitcoin transaction *\\n', 'Serial number: 322814013113005857864818908068002247515\\n', 'Payer: Ferhat Yaman\\n', 'Payee: LKI2RT99FN\\n', 'Amount: 63 Satoshi\\n', 'Previous hash in the chain: First transaction\\n', 'Nonce: 120092634322185639373024063021027655263\\n', 'Proof of Work: 000000fad926747ae5b99bded9e613e01dba65f73bdcf9761a5a855045d22d88', '* Bitcoin transaction *\\n', 'Serial number: 40479724373769379334046316013167726873\\n', 'Payer: Gulsum Can\\n', 'Payee: 0F3L68RU15\\n', 'Amount: 82 Satoshi\\n', 'Previous hash in the chain: 000000fad926747ae5b99bded9e613e01dba65f73bdcf9761a5a855045d22d88\\n', 'Nonce: 82720611246607019459987163900090721212\\n', 'Proof of Work: 000000e2d17055d5cfccc47b3750096578b57946d0b06c011ca9bfb8e1391263', '* Bitcoin transaction *\\n', 'Serial number: 39167977459663103538229088002443486745\\n', 'Payer: Ferhat Yaman\\n', 'Payee: VEZPQF5RDR\\n', 'Amount: 54 Bitcoin\\n', 'Previous hash in the chain: 000000e2d17055d5cfccc47b3750096578b57946d0b06c011ca9bfb8e1391263\\n', 'Nonce: 295577153462951255068041905077562562032\\n', 'Proof of Work: 0000008673c87c4f204187ada6a70f8224ffd5c8ffb3d9b99afa4ad6f8541c3f', '* Bitcoin transaction *\\n', 'Serial number: 199785603216289223447574064787296697764\\n', 'Payer: Gulsum Can\\n', 'Payee: HKJVSXE01V\\n', 'Amount: 17 Bitcoin\\n', 'Previous hash in the chain: 0000008673c87c4f204187ada6a70f8224ffd5c8ffb3d9b99afa4ad6f8541c3f\\n', 'Nonce: 114736438713337343390520916790559890888\\n', 'Proof of Work: 000000c616e15eb0c0c6dca83cbc182ae6a7703a051614b3c84510883096c3f0', '* Bitcoin transaction *\\n', 'Serial number: 131842622836334911872773521662233283619\\n', 'Payer: Ferhat Yaman\\n', 'Payee: KSHGVUPRPN\\n', 'Amount: 47 Bitcoin\\n', 'Previous hash in the chain: 000000c616e15eb0c0c6dca83cbc182ae6a7703a051614b3c84510883096c3f0\\n', 'Nonce: 117860772239635122473744633388199227445\\n', 'Proof of Work: 00000065fd10a9dfe8b5bba73b9219f9ab9516108bb4bbabb729cca12cf7bdae', '* Bitcoin transaction *\\n', 'Serial number: 66127874113029544032025688763314768448\\n', 'Payer: Gulsum Can\\n', 'Payee: TKTDJ2QAIF\\n', 'Amount: 70 Bitcoin\\n', 'Previous hash in the chain: 00000065fd10a9dfe8b5bba73b9219f9ab9516108bb4bbabb729cca12cf7bdae\\n', 'Nonce: 148308285486615980759222769873487359655\\n', 'Proof of Work: 00000024e8459b4e208e60046f0a4a714045d2b6e54200f43bc37a3c5f3d5b2d', '* Bitcoin transaction *\\n', 'Serial number: 246485990887498835702367233854104967441\\n', 'Payer: Ferhat Yaman\\n', 'Payee: MGMBRZW8HR\\n', 'Amount: 52 Bitcoin\\n', 'Previous hash in the chain: 00000024e8459b4e208e60046f0a4a714045d2b6e54200f43bc37a3c5f3d5b2d\\n', 'Nonce: 298030272571357490557553867538625629781\\n', 'Proof of Work: 0000008a27b63c037e74f08a4c5e4988d496f4189540150b138d0ffdd2ceb920', '* Bitcoin transaction *\\n', 'Serial number: 245041911099033707058304044807984560090\\n', 'Payer: Gulsum Can\\n', 'Payee: PB10RUQO80\\n', 'Amount: 58 Bitcoin\\n', 'Previous hash in the chain: 0000008a27b63c037e74f08a4c5e4988d496f4189540150b138d0ffdd2ceb920\\n', 'Nonce: 298885848210171912187191928753228790454\\n', 'Proof of Work: 000000a9264e901f33c4b6e703c2b3b9e98660f7eed878ea345b68f6b58470fc', '* Bitcoin transaction *\\n', 'Serial number: 204714823124787322669627956518958850823\\n', 'Payer: Ferhat Yaman\\n', 'Payee: 4XK0E2UO33\\n', 'Amount: 65 Bitcoin\\n', 'Previous hash in the chain: 000000a9264e901f33c4b6e703c2b3b9e98660f7eed878ea345b68f6b58470fc\\n', 'Nonce: 17037280368415087207447772919365518166\\n', 'Proof of Work: 0000000bd70b1d48e3ffb90ebe96df5f95a314a2ae986dabe08b9f7f16f1daaa', '* Bitcoin transaction *\\n', 'Serial number: 126905109950716832334980610940284890374\\n', 'Payer: Gulsum Can\\n', 'Payee: A7M5K70TGO\\n', 'Amount: 93 Satoshi\\n', 'Previous hash in the chain: 0000000bd70b1d48e3ffb90ebe96df5f95a314a2ae986dabe08b9f7f16f1daaa\\n', 'Nonce: 265879671712205809898332676471984093451\\n', 'Proof of Work: 000000b2d834610716d4e604827ad511c261b6483cb1e0a49522ee94b3b09de1']\n"
     ]
    }
   ],
   "source": [
    "# * Bitcoin transaction *\n",
    "# Serial number: 113923568100810392107501092256693023404\n",
    "# Payer: Erkay Savas\n",
    "# Payee: 9OHYC04SSW\n",
    "# Amount: 367 Satoshi\n",
    "# Previous hash in the chain: First transaction\n",
    "# Nonce: 125008846040115773675268776344286667739\n",
    "# Proof of Work: 000000522fd99aa82239ddd891bd5c366287bb44ef8a87013a936c0b8dcc4636\n",
    "from random import *\n",
    "import uuid\n",
    "import hashlib\n",
    "import string\n",
    "import random\n",
    "\n",
    "def id_generator(size=10, chars=string.ascii_uppercase + string.digits):\n",
    "    return ''.join(random.choice(chars) for _ in range(size))\n",
    "\n",
    "\n",
    "def check_PoW(h):\n",
    "    if h[0:6] == \"000000\":\n",
    "        return True\n",
    "    else:\n",
    "        return False\n",
    "\n",
    "def hash_me(lines):\n",
    "\tTxLen = 8\n",
    "\ttransaction = \"\".join(lines[i*TxLen:i*TxLen+TxLen-1])\n",
    "\ttransaction = transaction.encode()\n",
    "\th = hashlib.sha256(transaction).hexdigest()\n",
    "\treturn h\n",
    "\n",
    "\n",
    "TxLen = 8\t\t\n",
    "prev_hash = \"\"\n",
    "lines = list()\n",
    "for i in range(0,10):\n",
    "\tlines.append(\"* Bitcoin transaction *\\n\")\n",
    "\t\n",
    "\tline = \"Serial number: \"\n",
    "\tx = uuid.uuid4().int\n",
    "\tline += str(x) + \"\\n\"\n",
    "\tlines.append(line)\n",
    "\t\n",
    "\tif i % 2 == 0:\n",
    "\t\tlines.append(\"Payer: Ferhat Yaman\\n\")\n",
    "\telse:\n",
    "\t\tlines.append(\"Payer: Gulsum Can\\n\")\n",
    "\n",
    "\tline = \"Payee: \" + id_generator() + \"\\n\"\n",
    "\tlines.append(line)\n",
    "\n",
    "\tline = \"Amount: \"\n",
    "\tx = randint(1,2)\n",
    "\ty = randint(1,100)\n",
    "\tif x == 1:\n",
    "\t\tline += str(y) + \" Satoshi\\n\"\n",
    "\telse:\n",
    "\t\tline += str(y) + \" Bitcoin\\n\"\n",
    "\tlines.append(line)\n",
    "\n",
    "\tif i == 0:\n",
    "\t\tlines.append(\"Previous hash in the chain: First transaction\\n\")\n",
    "\telse:\n",
    "\t\tline = \"Previous hash in the chain: \" + str(prev_hash) + \"\\n\"\n",
    "\t\tlines.append(line)\n",
    "\t\t\n",
    "\n",
    "\tline = \"Nonce: \"\n",
    "\tnonce = uuid.uuid4().int\n",
    "\tline += str(nonce) + \"\\n\"\n",
    "\tlines.append(line)\n",
    "\t\n",
    "\th = hash_me(lines)\n",
    "\twhile not check_PoW(h):\n",
    "\t\tline = \"Nonce: \"\n",
    "\t\tnonce = uuid.uuid4().int\n",
    "\t\tline += str(nonce) + \"\\n\"\n",
    "\t\tlines[-1] = line\n",
    "\t\th = hash_me(lines)\n",
    "\t\tprev_hash = h\n",
    "\t\n",
    "\tline = \"Proof of Work: \" + str(h) + \"\\n\"\n",
    "\tlines.append(line)\n",
    "\tprint(lines[i*8:])\n",
    "\t\t\n",
    "\t#assign prev_hash\n",
    "\n",
    "print (lines)\n",
    "thefile = open('test.txt', 'w')\n",
    "for item in lines:\n",
    "\tthefile.write(item)"
   ]
  },
  {
   "cell_type": "code",
   "execution_count": null,
   "metadata": {},
   "outputs": [],
   "source": []
  }
 ],
 "metadata": {
  "kernelspec": {
   "display_name": "Python 3",
   "language": "python",
   "name": "python3"
  },
  "language_info": {
   "codemirror_mode": {
    "name": "ipython",
    "version": 3
   },
   "file_extension": ".py",
   "mimetype": "text/x-python",
   "name": "python",
   "nbconvert_exporter": "python",
   "pygments_lexer": "ipython3",
   "version": "3.6.2"
  }
 },
 "nbformat": 4,
 "nbformat_minor": 2
}
