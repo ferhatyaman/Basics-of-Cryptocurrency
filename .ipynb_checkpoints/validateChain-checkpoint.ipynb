{
 "cells": [
  {
   "cell_type": "code",
   "execution_count": 7,
   "metadata": {},
   "outputs": [
    {
     "name": "stdout",
     "output_type": "stream",
     "text": [
      "Chain Validation:\n",
      "The chain file does not exist\n"
     ]
    }
   ],
   "source": [
    "import math\n",
    "import random, string\n",
    "import sys, os\n",
    "import hashlib\n",
    "'''\n",
    "if sys.version_info < (3, 6):\n",
    "    import sha3\n",
    "'''\n",
    "def ValidateChain(ChainFileName, PoWLen, TxLen):\n",
    "    if os.path.exists(ChainFileName) == True:\n",
    "        ChainFile = open(ChainFileName, \"r\")\n",
    "    else:\n",
    "        return -2\n",
    "\n",
    "    lines = ChainFile.readlines()\n",
    "    ChainLen = int(len(lines)/TxLen)\n",
    "    print (\"\\nChain length: \", ChainLen, \"\\n\")\n",
    "    \n",
    "    valid = True\n",
    "    for i in range(0, ChainLen, 1):\n",
    "        transaction = \"\".join(lines[i*TxLen:i*TxLen+TxLen-1])\n",
    "        transaction = transaction.encode()\n",
    "        h = hashlib.sha3_256(transaction).hexdigest()\n",
    "        PoW = lines[i*TxLen+TxLen-1]\n",
    "        print (\"h: \", h)\n",
    "        print (PoW)\n",
    "        #from IPython.core.debugger import Tracer; Tracer()() \n",
    "        if (h != PoW[15:-1]):\n",
    "            valid = False\n",
    "            break\n",
    "    ChainFile.close()\n",
    "    if valid == True:\n",
    "        return 1\n",
    "    else:\n",
    "        return -1\n",
    "        \n",
    "print (\"Chain Validation:\")\n",
    "\n",
    "# Chain File\n",
    "PoWLen = 6\n",
    "TxLen = 8\n",
    "retVal = ValidateChain(\"test.txt\", PoWLen, TxLen)\n",
    "if retVal == 1:\n",
    "    print (\"\\n\\nHash chain validated:):)\")\n",
    "elif retVal == -1:\n",
    "    print (\"\\n\\nValidation Fails!!!!\")\n",
    "elif retVal == -2:\n",
    "    print (\"The chain file does not exist\")\n",
    "else:\n",
    "    print (\" Something unexpected happened\")"
   ]
  },
  {
   "cell_type": "code",
   "execution_count": null,
   "metadata": {},
   "outputs": [],
   "source": []
  }
 ],
 "metadata": {
  "kernelspec": {
   "display_name": "Python 3",
   "language": "python",
   "name": "python3"
  },
  "language_info": {
   "codemirror_mode": {
    "name": "ipython",
    "version": 3
   },
   "file_extension": ".py",
   "mimetype": "text/x-python",
   "name": "python",
   "nbconvert_exporter": "python",
   "pygments_lexer": "ipython3",
   "version": "3.6.2"
  }
 },
 "nbformat": 4,
 "nbformat_minor": 2
}
