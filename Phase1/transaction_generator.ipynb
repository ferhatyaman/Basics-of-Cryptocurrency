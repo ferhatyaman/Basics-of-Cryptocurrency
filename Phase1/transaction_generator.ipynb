{
 "cells": [
  {
   "cell_type": "code",
   "execution_count": 1,
   "metadata": {},
   "outputs": [
    {
     "name": "stdout",
     "output_type": "stream",
     "text": [
      "True\n"
     ]
    }
   ],
   "source": [
    "def check_PoW(h):\n",
    "    if h[0:6] == \"000000\":\n",
    "        return True\n",
    "    else:\n",
    "        return False\n",
    "h = '000000cf6e9a186ae41a4344910e6063df15b50e7a9453ae21053b3466b26f61' \n"
   ]
  },
  {
   "cell_type": "code",
   "execution_count": 5,
   "metadata": {},
   "outputs": [
    {
     "data": {
      "text/plain": [
       "'1J06IX9D8S'"
      ]
     },
     "execution_count": 5,
     "metadata": {},
     "output_type": "execute_result"
    }
   ],
   "source": [
    "import string\n",
    "import random\n",
    "''.join(random.SystemRandom().choice(string.ascii_uppercase + string.digits) for _ in range(10))"
   ]
  },
  {
   "cell_type": "code",
   "execution_count": 4,
   "metadata": {},
   "outputs": [
    {
     "data": {
      "text/plain": [
       "'LCLCZT2SOX'"
      ]
     },
     "execution_count": 4,
     "metadata": {},
     "output_type": "execute_result"
    }
   ],
   "source": [
    "import string\n",
    "import random\n",
    "def id_generator(size=10, chars=string.ascii_uppercase + string.digits):\n",
    "    return ''.join(random.choice(chars) for _ in range(size))\n",
    "id_generator()"
   ]
  },
  {
   "cell_type": "code",
   "execution_count": null,
   "metadata": {},
   "outputs": [],
   "source": [
    "import hashlib\n",
    "transaction = \"\".join(lines[i*TxLen:i*TxLen+TxLen-1])\n",
    "transaction = transaction.encode()\n",
    "h = hashlib.sha3_256(transaction).hexdigest()\n"
   ]
  },
  {
   "cell_type": "code",
   "execution_count": 8,
   "metadata": {},
   "outputs": [
    {
     "name": "stdout",
     "output_type": "stream",
     "text": [
      "['* Bitcoin transaction *\\n', 'Serial number: 167070272930656873996496774181231755563\\n', 'Payer: Ferhat Yaman\\n', 'Payee: QTKBG9IKUV\\n', 'Amount: 24 Satoshi\\n', 'Previous hash in the chain: First transaction\\n', 'Nonce: 288165376828076429454656021872343103361\\n', 'Proof of Work: 000000b6c0aec54e22c04403885561a25ef0802f53648d6032b99480b8241378']\n",
      "['* Bitcoin transaction *\\n', 'Serial number: 189002267988789350557797811967104960518\\n', 'Payer: Gulsum Can\\n', 'Payee: 0ADB2NEI90\\n', 'Amount: 66 Satoshi\\n', 'Previous hash in the chain: 000000b6c0aec54e22c04403885561a25ef0802f53648d6032b99480b8241378\\n', 'Nonce: 4404833837065702828274809073064926260\\n', 'Proof of Work: 00000000fcee329aa55e10e4d5a5e21781b60fe7113f461a27d001e18a0110f3']\n",
      "['* Bitcoin transaction *\\n', 'Serial number: 292672587634374176998996898886887893830\\n', 'Payer: Ferhat Yaman\\n', 'Payee: TJNSV5R1EQ\\n', 'Amount: 29 Bitcoin\\n', 'Previous hash in the chain: 00000000fcee329aa55e10e4d5a5e21781b60fe7113f461a27d001e18a0110f3\\n', 'Nonce: 252199845357726740043461215719427618585\\n', 'Proof of Work: 0000007f366dd27d3d76fcb7451a9b1498c6c7cf153c279a7cdaa6bde67de42b']\n",
      "['* Bitcoin transaction *\\n', 'Serial number: 222366533673445679296909454305613121249\\n', 'Payer: Gulsum Can\\n', 'Payee: G3BLNTB9Q6\\n', 'Amount: 10 Satoshi\\n', 'Previous hash in the chain: 0000007f366dd27d3d76fcb7451a9b1498c6c7cf153c279a7cdaa6bde67de42b\\n', 'Nonce: 226009745570503827942055426099589216649\\n', 'Proof of Work: 00000030ba3a2c70d6ea7bd02db4dcda05816af0837572b69b024583388d52bc']\n",
      "['* Bitcoin transaction *\\n', 'Serial number: 189476329455084739879059004045247859727\\n', 'Payer: Ferhat Yaman\\n', 'Payee: G0OVX7WN2X\\n', 'Amount: 49 Bitcoin\\n', 'Previous hash in the chain: 00000030ba3a2c70d6ea7bd02db4dcda05816af0837572b69b024583388d52bc\\n', 'Nonce: 279014955380313377606433748710316312365\\n', 'Proof of Work: 00000082903b48bf0602f5c64d1d6bd4ba8def25bd8a69c3a145a1b334790b5a']\n",
      "['* Bitcoin transaction *\\n', 'Serial number: 328711717608313072539829405315348857242\\n', 'Payer: Gulsum Can\\n', 'Payee: T9C7D6YN1W\\n', 'Amount: 91 Satoshi\\n', 'Previous hash in the chain: 00000082903b48bf0602f5c64d1d6bd4ba8def25bd8a69c3a145a1b334790b5a\\n', 'Nonce: 162661297081300611670883639721111184833\\n', 'Proof of Work: 0000007a10193cce4edeae6bd8f07b2d8154441e24fd5110d76fe82b3d2b0986']\n",
      "['* Bitcoin transaction *\\n', 'Serial number: 334987126762693154458799435646571712251\\n', 'Payer: Ferhat Yaman\\n', 'Payee: VU1PF8GXMM\\n', 'Amount: 40 Satoshi\\n', 'Previous hash in the chain: 0000007a10193cce4edeae6bd8f07b2d8154441e24fd5110d76fe82b3d2b0986\\n', 'Nonce: 25125437610001954809372749984716211297\\n', 'Proof of Work: 000000ee08797446c69a84f0360b4abf581aa4b612eb191ae61607731cb5d808']\n",
      "['* Bitcoin transaction *\\n', 'Serial number: 289098406192902716673560507407307186069\\n', 'Payer: Gulsum Can\\n', 'Payee: L8KTYIC55Z\\n', 'Amount: 10 Satoshi\\n', 'Previous hash in the chain: 000000ee08797446c69a84f0360b4abf581aa4b612eb191ae61607731cb5d808\\n', 'Nonce: 155386699126507285173593485216968535411\\n', 'Proof of Work: 000000093bc682512dfd506578d2141e0c1b76bc0c379a509860a8f3bc2a1438']\n",
      "['* Bitcoin transaction *\\n', 'Serial number: 104829014598353446495255839802839488581\\n', 'Payer: Ferhat Yaman\\n', 'Payee: DYG2BUING7\\n', 'Amount: 36 Satoshi\\n', 'Previous hash in the chain: 000000093bc682512dfd506578d2141e0c1b76bc0c379a509860a8f3bc2a1438\\n', 'Nonce: 38983821406412696490874528740886162191\\n', 'Proof of Work: 0000008fb2600ee667b1b9df9a4731e27ffc0bf933f8ff8d1205e5b08131878f']\n",
      "['* Bitcoin transaction *\\n', 'Serial number: 97339772873250880754405806003543817829\\n', 'Payer: Gulsum Can\\n', 'Payee: 5WGWXOJSAR\\n', 'Amount: 5 Bitcoin\\n', 'Previous hash in the chain: 0000008fb2600ee667b1b9df9a4731e27ffc0bf933f8ff8d1205e5b08131878f\\n', 'Nonce: 52809002854421863446739777427977645817\\n', 'Proof of Work: 0000005b9e787bf2451f76f9f949e933717ab3826a7f8d73882b1384cc11a795']\n",
      "['* Bitcoin transaction *\\n', 'Serial number: 167070272930656873996496774181231755563\\n', 'Payer: Ferhat Yaman\\n', 'Payee: QTKBG9IKUV\\n', 'Amount: 24 Satoshi\\n', 'Previous hash in the chain: First transaction\\n', 'Nonce: 288165376828076429454656021872343103361\\n', 'Proof of Work: 000000b6c0aec54e22c04403885561a25ef0802f53648d6032b99480b8241378', '* Bitcoin transaction *\\n', 'Serial number: 189002267988789350557797811967104960518\\n', 'Payer: Gulsum Can\\n', 'Payee: 0ADB2NEI90\\n', 'Amount: 66 Satoshi\\n', 'Previous hash in the chain: 000000b6c0aec54e22c04403885561a25ef0802f53648d6032b99480b8241378\\n', 'Nonce: 4404833837065702828274809073064926260\\n', 'Proof of Work: 00000000fcee329aa55e10e4d5a5e21781b60fe7113f461a27d001e18a0110f3', '* Bitcoin transaction *\\n', 'Serial number: 292672587634374176998996898886887893830\\n', 'Payer: Ferhat Yaman\\n', 'Payee: TJNSV5R1EQ\\n', 'Amount: 29 Bitcoin\\n', 'Previous hash in the chain: 00000000fcee329aa55e10e4d5a5e21781b60fe7113f461a27d001e18a0110f3\\n', 'Nonce: 252199845357726740043461215719427618585\\n', 'Proof of Work: 0000007f366dd27d3d76fcb7451a9b1498c6c7cf153c279a7cdaa6bde67de42b', '* Bitcoin transaction *\\n', 'Serial number: 222366533673445679296909454305613121249\\n', 'Payer: Gulsum Can\\n', 'Payee: G3BLNTB9Q6\\n', 'Amount: 10 Satoshi\\n', 'Previous hash in the chain: 0000007f366dd27d3d76fcb7451a9b1498c6c7cf153c279a7cdaa6bde67de42b\\n', 'Nonce: 226009745570503827942055426099589216649\\n', 'Proof of Work: 00000030ba3a2c70d6ea7bd02db4dcda05816af0837572b69b024583388d52bc', '* Bitcoin transaction *\\n', 'Serial number: 189476329455084739879059004045247859727\\n', 'Payer: Ferhat Yaman\\n', 'Payee: G0OVX7WN2X\\n', 'Amount: 49 Bitcoin\\n', 'Previous hash in the chain: 00000030ba3a2c70d6ea7bd02db4dcda05816af0837572b69b024583388d52bc\\n', 'Nonce: 279014955380313377606433748710316312365\\n', 'Proof of Work: 00000082903b48bf0602f5c64d1d6bd4ba8def25bd8a69c3a145a1b334790b5a', '* Bitcoin transaction *\\n', 'Serial number: 328711717608313072539829405315348857242\\n', 'Payer: Gulsum Can\\n', 'Payee: T9C7D6YN1W\\n', 'Amount: 91 Satoshi\\n', 'Previous hash in the chain: 00000082903b48bf0602f5c64d1d6bd4ba8def25bd8a69c3a145a1b334790b5a\\n', 'Nonce: 162661297081300611670883639721111184833\\n', 'Proof of Work: 0000007a10193cce4edeae6bd8f07b2d8154441e24fd5110d76fe82b3d2b0986', '* Bitcoin transaction *\\n', 'Serial number: 334987126762693154458799435646571712251\\n', 'Payer: Ferhat Yaman\\n', 'Payee: VU1PF8GXMM\\n', 'Amount: 40 Satoshi\\n', 'Previous hash in the chain: 0000007a10193cce4edeae6bd8f07b2d8154441e24fd5110d76fe82b3d2b0986\\n', 'Nonce: 25125437610001954809372749984716211297\\n', 'Proof of Work: 000000ee08797446c69a84f0360b4abf581aa4b612eb191ae61607731cb5d808', '* Bitcoin transaction *\\n', 'Serial number: 289098406192902716673560507407307186069\\n', 'Payer: Gulsum Can\\n', 'Payee: L8KTYIC55Z\\n', 'Amount: 10 Satoshi\\n', 'Previous hash in the chain: 000000ee08797446c69a84f0360b4abf581aa4b612eb191ae61607731cb5d808\\n', 'Nonce: 155386699126507285173593485216968535411\\n', 'Proof of Work: 000000093bc682512dfd506578d2141e0c1b76bc0c379a509860a8f3bc2a1438', '* Bitcoin transaction *\\n', 'Serial number: 104829014598353446495255839802839488581\\n', 'Payer: Ferhat Yaman\\n', 'Payee: DYG2BUING7\\n', 'Amount: 36 Satoshi\\n', 'Previous hash in the chain: 000000093bc682512dfd506578d2141e0c1b76bc0c379a509860a8f3bc2a1438\\n', 'Nonce: 38983821406412696490874528740886162191\\n', 'Proof of Work: 0000008fb2600ee667b1b9df9a4731e27ffc0bf933f8ff8d1205e5b08131878f', '* Bitcoin transaction *\\n', 'Serial number: 97339772873250880754405806003543817829\\n', 'Payer: Gulsum Can\\n', 'Payee: 5WGWXOJSAR\\n', 'Amount: 5 Bitcoin\\n', 'Previous hash in the chain: 0000008fb2600ee667b1b9df9a4731e27ffc0bf933f8ff8d1205e5b08131878f\\n', 'Nonce: 52809002854421863446739777427977645817\\n', 'Proof of Work: 0000005b9e787bf2451f76f9f949e933717ab3826a7f8d73882b1384cc11a795']\n"
     ]
    }
   ],
   "source": [
    "# * Bitcoin transaction *\n",
    "# Serial number: 113923568100810392107501092256693023404\n",
    "# Payer: Erkay Savas\n",
    "# Payee: 9OHYC04SSW\n",
    "# Amount: 367 Satoshi\n",
    "# Previous hash in the chain: First transaction\n",
    "# Nonce: 125008846040115773675268776344286667739\n",
    "# Proof of Work: 000000522fd99aa82239ddd891bd5c366287bb44ef8a87013a936c0b8dcc4636\n",
    "from random import *\n",
    "import uuid\n",
    "import hashlib\n",
    "import string\n",
    "import random\n",
    "\n",
    "def id_generator(size=10, chars=string.ascii_uppercase + string.digits):\n",
    "    return ''.join(random.choice(chars) for _ in range(size))\n",
    "\n",
    "\n",
    "def check_PoW(h):\n",
    "    if h[0:6] == \"000000\":\n",
    "        return True\n",
    "    else:\n",
    "        return False\n",
    "\n",
    "def hash_me(lines):\n",
    "\tTxLen = 8\n",
    "\ttransaction = \"\".join(lines[i*TxLen:i*TxLen+TxLen-1])\n",
    "\ttransaction = transaction.encode()\n",
    "\th = hashlib.sha256(transaction).hexdigest()\n",
    "\treturn h\n",
    "\n",
    "\n",
    "TxLen = 8\t\t\n",
    "prev_hash = \"\"\n",
    "lines = list()\n",
    "for i in range(0,10):\n",
    "\tlines.append(\"* Bitcoin transaction *\\n\")\n",
    "\t\n",
    "\tline = \"Serial number: \"\n",
    "\tx = uuid.uuid4().int\n",
    "\tline += str(x) + \"\\n\"\n",
    "\tlines.append(line)\n",
    "\t\n",
    "\tif i % 2 == 0:\n",
    "\t\tlines.append(\"Payer: Ferhat Yaman\\n\")\n",
    "\telse:\n",
    "\t\tlines.append(\"Payer: Gulsum Can\\n\")\n",
    "\n",
    "\tline = \"Payee: \" + id_generator() + \"\\n\"\n",
    "\tlines.append(line)\n",
    "\n",
    "\tline = \"Amount: \"\n",
    "\tx = randint(1,2)\n",
    "\ty = randint(1,100)\n",
    "\tif x == 1:\n",
    "\t\tline += str(y) + \" Satoshi\\n\"\n",
    "\telse:\n",
    "\t\tline += str(y) + \" Bitcoin\\n\"\n",
    "\tlines.append(line)\n",
    "\n",
    "\tif i == 0:\n",
    "\t\tlines.append(\"Previous hash in the chain: First transaction\\n\")\n",
    "\telse:\n",
    "\t\tline = \"Previous hash in the chain: \" + str(prev_hash) + \"\\n\"\n",
    "\t\tlines.append(line)\n",
    "\t\t\n",
    "\n",
    "\tline = \"Nonce: \"\n",
    "\tnonce = uuid.uuid4().int\n",
    "\tline += str(nonce) + \"\\n\"\n",
    "\tlines.append(line)\n",
    "\t\n",
    "\th = hash_me(lines)\n",
    "\twhile not check_PoW(h):\n",
    "\t\tline = \"Nonce: \"\n",
    "\t\tnonce = uuid.uuid4().int\n",
    "\t\tline += str(nonce) + \"\\n\"\n",
    "\t\tlines[-1] = line\n",
    "\t\th = hash_me(lines)\n",
    "\t\tprev_hash = h\n",
    "\t\n",
    "\tline = \"Proof of Work: \" + str(h) + \"\\n\"\n",
    "\tlines.append(line)\n",
    "\tprint(lines[i*8:])\n",
    "\t\t\n",
    "\t#assign prev_hash\n",
    "\n",
    "print (lines)"
   ]
  },
  {
   "cell_type": "code",
   "execution_count": 1,
   "metadata": {},
   "outputs": [
    {
     "ename": "KeyboardInterrupt",
     "evalue": "",
     "output_type": "error",
     "traceback": [
      "\u001b[0;31m---------------------------------------------------------------------------\u001b[0m",
      "\u001b[0;31mKeyboardInterrupt\u001b[0m                         Traceback (most recent call last)",
      "\u001b[0;32m<ipython-input-1-ed9e27b43f42>\u001b[0m in \u001b[0;36m<module>\u001b[0;34m()\u001b[0m\n\u001b[1;32m     72\u001b[0m \u001b[0;34m\u001b[0m\u001b[0m\n\u001b[1;32m     73\u001b[0m         \u001b[0mh\u001b[0m \u001b[0;34m=\u001b[0m \u001b[0mhash_me\u001b[0m\u001b[0;34m(\u001b[0m\u001b[0mlines\u001b[0m\u001b[0;34m)\u001b[0m\u001b[0;34m\u001b[0m\u001b[0m\n\u001b[0;32m---> 74\u001b[0;31m         \u001b[0;32mwhile\u001b[0m \u001b[0;32mnot\u001b[0m \u001b[0mcheck_PoW\u001b[0m\u001b[0;34m(\u001b[0m\u001b[0mh\u001b[0m\u001b[0;34m)\u001b[0m\u001b[0;34m:\u001b[0m\u001b[0;34m\u001b[0m\u001b[0m\n\u001b[0m\u001b[1;32m     75\u001b[0m                 \u001b[0mline\u001b[0m \u001b[0;34m=\u001b[0m \u001b[0;34m\"Nonce: \"\u001b[0m\u001b[0;34m\u001b[0m\u001b[0m\n\u001b[1;32m     76\u001b[0m                 \u001b[0mnonce\u001b[0m \u001b[0;34m=\u001b[0m \u001b[0muuid\u001b[0m\u001b[0;34m.\u001b[0m\u001b[0muuid4\u001b[0m\u001b[0;34m(\u001b[0m\u001b[0;34m)\u001b[0m\u001b[0;34m.\u001b[0m\u001b[0mint\u001b[0m\u001b[0;34m\u001b[0m\u001b[0m\n",
      "\u001b[0;32m<ipython-input-1-ed9e27b43f42>\u001b[0m in \u001b[0;36mcheck_PoW\u001b[0;34m(h)\u001b[0m\n\u001b[1;32m     18\u001b[0m \u001b[0;34m\u001b[0m\u001b[0m\n\u001b[1;32m     19\u001b[0m \u001b[0;32mdef\u001b[0m \u001b[0mcheck_PoW\u001b[0m\u001b[0;34m(\u001b[0m\u001b[0mh\u001b[0m\u001b[0;34m)\u001b[0m\u001b[0;34m:\u001b[0m\u001b[0;34m\u001b[0m\u001b[0m\n\u001b[0;32m---> 20\u001b[0;31m     \u001b[0;32mif\u001b[0m \u001b[0mh\u001b[0m\u001b[0;34m[\u001b[0m\u001b[0;36m0\u001b[0m\u001b[0;34m:\u001b[0m\u001b[0;36m6\u001b[0m\u001b[0;34m]\u001b[0m \u001b[0;34m==\u001b[0m \u001b[0;34m\"000000\"\u001b[0m\u001b[0;34m:\u001b[0m\u001b[0;34m\u001b[0m\u001b[0m\n\u001b[0m\u001b[1;32m     21\u001b[0m         \u001b[0;32mreturn\u001b[0m \u001b[0;32mTrue\u001b[0m\u001b[0;34m\u001b[0m\u001b[0m\n\u001b[1;32m     22\u001b[0m     \u001b[0;32melse\u001b[0m\u001b[0;34m:\u001b[0m\u001b[0;34m\u001b[0m\u001b[0m\n",
      "\u001b[0;31mKeyboardInterrupt\u001b[0m: "
     ]
    }
   ],
   "source": [
    "# * Bitcoin transaction *\n",
    "# Serial number: 113923568100810392107501092256693023404\n",
    "# Payer: Erkay Savas\n",
    "# Payee: 9OHYC04SSW\n",
    "# Amount: 367 Satoshi\n",
    "# Previous hash in the chain: First transaction\n",
    "# Nonce: 125008846040115773675268776344286667739\n",
    "# Proof of Work: 000000522fd99aa82239ddd891bd5c366287bb44ef8a87013a936c0b8dcc4636\n",
    "from random import *\n",
    "import uuid\n",
    "import hashlib\n",
    "import string\n",
    "import random\n",
    "\n",
    "def id_generator(size=10, chars=string.ascii_uppercase + string.digits):\n",
    "    return ''.join(random.choice(chars) for _ in range(size))\n",
    "\n",
    "\n",
    "def check_PoW(h):\n",
    "    if h[0:6] == \"000000\":\n",
    "        return True\n",
    "    else:\n",
    "        return False\n",
    "\n",
    "def hash_me(lines):\n",
    "\tTxLen = 8\n",
    "\ttransaction = \"\".join(lines[i*TxLen:i*TxLen+TxLen-1])\n",
    "\ttransaction = transaction.encode()\n",
    "\th = hashlib.sha256(transaction).hexdigest()\n",
    "\treturn h\n",
    "\n",
    "\n",
    "TxLen = 8\t\t\n",
    "prev_hash = \"\"\n",
    "lines = list()\n",
    "for i in range(0,10):\n",
    "\tlines.append(\"* Bitcoin transaction *\\n\")\n",
    "\t\n",
    "\tline = \"Serial number: \"\n",
    "\tx = uuid.uuid4().int\n",
    "\tline += str(x) + \"\\n\"\n",
    "\tlines.append(line)\n",
    "\t\n",
    "\tif i % 2 == 0:\n",
    "\t\tlines.append(\"Payer: Ferhat Yaman\\n\")\n",
    "\telse:\n",
    "\t\tlines.append(\"Payer: Gulsum Can\\n\")\n",
    "\n",
    "\tline = \"Payee: \" + id_generator() + \"\\n\"\n",
    "\tlines.append(line)\n",
    "\n",
    "\tline = \"Amount: \"\n",
    "\tx = randint(1,2)\n",
    "\ty = randint(1,100)\n",
    "\tif x == 1:\n",
    "\t\tline += str(y) + \" Satoshi\\n\"\n",
    "\telse:\n",
    "\t\tline += str(y) + \" Bitcoin\\n\"\n",
    "\tlines.append(line)\n",
    "\n",
    "\tif i == 0:\n",
    "\t\tlines.append(\"Previous hash in the chain: First transaction\\n\")\n",
    "\telse:\n",
    "\t\tline = \"Previous hash in the chain: \" + str(prev_hash) + \"\\n\"\n",
    "\t\tlines.append(line)\n",
    "\t\t\n",
    "\n",
    "\tline = \"Nonce: \"\n",
    "\tnonce = uuid.uuid4().int\n",
    "\tline += str(nonce) + \"\\n\"\n",
    "\tlines.append(line)\n",
    "\t\n",
    "\th = hash_me(lines)\n",
    "\twhile not check_PoW(h):\n",
    "\t\tline = \"Nonce: \"\n",
    "\t\tnonce = uuid.uuid4().int\n",
    "\t\tline += str(nonce) + \"\\n\"\n",
    "\t\tlines[-1] = line\n",
    "\t\th = hash_me(lines)\n",
    "\t\tprev_hash = h\n",
    "\t\n",
    "\tline = \"Proof of Work: \" + str(h) + \"\\n\"\n",
    "\tlines.append(line)\n",
    "\tprint(lines[i*8:])\n",
    "\t\t\n",
    "\t#assign prev_hash\n",
    "\n",
    "print (lines)\n",
    "thefile = open('test.txt', 'w')\n",
    "for item in lines:\n",
    "\tthefile.write(item)"
   ]
  },
  {
   "cell_type": "code",
   "execution_count": null,
   "metadata": {},
   "outputs": [],
   "source": []
  }
 ],
 "metadata": {
  "kernelspec": {
   "display_name": "Python 3",
   "language": "python",
   "name": "python3"
  },
  "language_info": {
   "codemirror_mode": {
    "name": "ipython",
    "version": 3
   },
   "file_extension": ".py",
   "mimetype": "text/x-python",
   "name": "python",
   "nbconvert_exporter": "python",
   "pygments_lexer": "ipython3",
   "version": "3.6.2"
  }
 },
 "nbformat": 4,
 "nbformat_minor": 2
}
